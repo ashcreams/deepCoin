{
 "cells": [
  {
   "cell_type": "code",
   "execution_count": 64,
   "metadata": {},
   "outputs": [],
   "source": [
    "import pyupbit\n",
    "import time\n",
    "import json\n",
    "import requests\n",
    "import pandas as pd\n",
    "import mysql.connector"
   ]
  },
  {
   "cell_type": "markdown",
   "metadata": {},
   "source": [
    "##### DB연결"
   ]
  },
  {
   "cell_type": "code",
   "execution_count": 67,
   "metadata": {},
   "outputs": [
    {
     "name": "stdout",
     "output_type": "stream",
     "text": [
      "MySQL 데이터베이스에 성공적으로 연결되었습니다.\n"
     ]
    }
   ],
   "source": [
    "# MySQL 서버에 연결\n",
    "mydb = mysql.connector.connect(\n",
    "    host=\"127.0.0.1\",\n",
    "    user=\"root\",\n",
    "    password=\"1234\",\n",
    "    database=\"deepCoin\"\n",
    ")\n",
    "\n",
    "# 연결이 제대로 되었는지 확인\n",
    "if mydb.is_connected():\n",
    "    print(\"MySQL 데이터베이스에 성공적으로 연결되었습니다.\")\n",
    "else:\n",
    "    print(\"MySQL 데이터베이스 연결에 실패했습니다.\")\n",
    "\n",
    "# 커서 생성\n",
    "mycursor = mydb.cursor()\n"
   ]
  },
  {
   "cell_type": "markdown",
   "metadata": {},
   "source": [
    "##### DB 종목마스터 가져오기"
   ]
  },
  {
   "cell_type": "code",
   "execution_count": 50,
   "metadata": {},
   "outputs": [],
   "source": [
    "# SELECT 쿼리 실행\n",
    "mycursor.execute(\"SELECT * FROM c_krw_mst\")\n",
    "\n",
    "# 결과 가져오기\n",
    "result = mycursor.fetchall()\n",
    "\n",
    "# 튜플의 0번째 인덱스만 가져와서 마켓 리스트 생성\n",
    "market_list = [t[0] for t in result]"
   ]
  },
  {
   "cell_type": "markdown",
   "metadata": {},
   "source": [
    "##### 종목별 일봉데이터 가져오기"
   ]
  },
  {
   "cell_type": "code",
   "execution_count": 83,
   "metadata": {},
   "outputs": [],
   "source": [
    "for market in market_list:\n",
    "    pyupbit.get_ohlcv_from(ticker=market, interval=\"day\", fromDatetime=None,\n",
    "                   to=None, period=0.5)"
   ]
  },
  {
   "cell_type": "code",
   "execution_count": 62,
   "metadata": {},
   "outputs": [],
   "source": [
    "market = \"KRW-ASTR\"\n",
    "df = pyupbit.get_ohlcv_from(ticker=market, interval=\"day\", fromDatetime=None,\n",
    "                   to=None, period=0.5)\n",
    "df['date'] = df.index\n",
    "df['market'] = market\n",
    "df = df[['date', 'market', 'open', 'high', 'low', 'close', 'volume', 'value']]\n",
    "\n",
    "values = df.values.tolist()"
   ]
  },
  {
   "cell_type": "code",
   "execution_count": 69,
   "metadata": {},
   "outputs": [],
   "source": [
    "mydb.close()"
   ]
  },
  {
   "cell_type": "code",
   "execution_count": 68,
   "metadata": {},
   "outputs": [
    {
     "ename": "ProgrammingError",
     "evalue": "1054 (42S22): Unknown column 'high' in 'field list'",
     "output_type": "error",
     "traceback": [
      "\u001b[1;31m---------------------------------------------------------------------------\u001b[0m",
      "\u001b[1;31mMySQLInterfaceError\u001b[0m                       Traceback (most recent call last)",
      "File \u001b[1;32mc:\\Users\\ty\\.conda\\envs\\ash\\lib\\site-packages\\mysql\\connector\\connection_cext.py:661\u001b[0m, in \u001b[0;36mCMySQLConnection.cmd_query\u001b[1;34m(self, query, raw, buffered, raw_as_string)\u001b[0m\n\u001b[0;32m    660\u001b[0m         query \u001b[38;5;241m=\u001b[39m query\u001b[38;5;241m.\u001b[39mencode(\u001b[38;5;124m\"\u001b[39m\u001b[38;5;124mutf-8\u001b[39m\u001b[38;5;124m\"\u001b[39m)\n\u001b[1;32m--> 661\u001b[0m     \u001b[38;5;28;43mself\u001b[39;49m\u001b[38;5;241;43m.\u001b[39;49m\u001b[43m_cmysql\u001b[49m\u001b[38;5;241;43m.\u001b[39;49m\u001b[43mquery\u001b[49m\u001b[43m(\u001b[49m\n\u001b[0;32m    662\u001b[0m \u001b[43m        \u001b[49m\u001b[43mquery\u001b[49m\u001b[43m,\u001b[49m\n\u001b[0;32m    663\u001b[0m \u001b[43m        \u001b[49m\u001b[43mraw\u001b[49m\u001b[38;5;241;43m=\u001b[39;49m\u001b[43mraw\u001b[49m\u001b[43m,\u001b[49m\n\u001b[0;32m    664\u001b[0m \u001b[43m        \u001b[49m\u001b[43mbuffered\u001b[49m\u001b[38;5;241;43m=\u001b[39;49m\u001b[43mbuffered\u001b[49m\u001b[43m,\u001b[49m\n\u001b[0;32m    665\u001b[0m \u001b[43m        \u001b[49m\u001b[43mraw_as_string\u001b[49m\u001b[38;5;241;43m=\u001b[39;49m\u001b[43mraw_as_string\u001b[49m\u001b[43m,\u001b[49m\n\u001b[0;32m    666\u001b[0m \u001b[43m        \u001b[49m\u001b[43mquery_attrs\u001b[49m\u001b[38;5;241;43m=\u001b[39;49m\u001b[38;5;28;43mself\u001b[39;49m\u001b[38;5;241;43m.\u001b[39;49m\u001b[43mquery_attrs\u001b[49m\u001b[43m,\u001b[49m\n\u001b[0;32m    667\u001b[0m \u001b[43m    \u001b[49m\u001b[43m)\u001b[49m\n\u001b[0;32m    668\u001b[0m \u001b[38;5;28;01mexcept\u001b[39;00m MySQLInterfaceError \u001b[38;5;28;01mas\u001b[39;00m err:\n",
      "\u001b[1;31mMySQLInterfaceError\u001b[0m: Unknown column 'high' in 'field list'",
      "\nThe above exception was the direct cause of the following exception:\n",
      "\u001b[1;31mProgrammingError\u001b[0m                          Traceback (most recent call last)",
      "Cell \u001b[1;32mIn[68], line 15\u001b[0m\n\u001b[0;32m      8\u001b[0m sql \u001b[38;5;241m=\u001b[39m \u001b[38;5;124m\"\u001b[39m\u001b[38;5;124mINSERT INTO \u001b[39m\u001b[38;5;132;01m{}\u001b[39;00m\u001b[38;5;124m (\u001b[39m\u001b[38;5;132;01m{}\u001b[39;00m\u001b[38;5;124m) VALUES (\u001b[39m\u001b[38;5;132;01m{}\u001b[39;00m\u001b[38;5;124m)\u001b[39m\u001b[38;5;124m\"\u001b[39m\u001b[38;5;241m.\u001b[39mformat(\n\u001b[0;32m      9\u001b[0m     table_name,\n\u001b[0;32m     10\u001b[0m     \u001b[38;5;124m'\u001b[39m\u001b[38;5;124m, \u001b[39m\u001b[38;5;124m'\u001b[39m\u001b[38;5;241m.\u001b[39mjoin(columns),\n\u001b[0;32m     11\u001b[0m     \u001b[38;5;124m'\u001b[39m\u001b[38;5;124m, \u001b[39m\u001b[38;5;124m'\u001b[39m\u001b[38;5;241m.\u001b[39mjoin([\u001b[38;5;124m'\u001b[39m\u001b[38;5;132;01m%s\u001b[39;00m\u001b[38;5;124m'\u001b[39m] \u001b[38;5;241m*\u001b[39m \u001b[38;5;28mlen\u001b[39m(columns))\n\u001b[0;32m     12\u001b[0m )\n\u001b[0;32m     14\u001b[0m \u001b[38;5;66;03m# 데이터 삽입\u001b[39;00m\n\u001b[1;32m---> 15\u001b[0m \u001b[43mmycursor\u001b[49m\u001b[38;5;241;43m.\u001b[39;49m\u001b[43mexecutemany\u001b[49m\u001b[43m(\u001b[49m\u001b[43msql\u001b[49m\u001b[43m,\u001b[49m\u001b[43m \u001b[49m\u001b[43mvalues\u001b[49m\u001b[43m)\u001b[49m\n\u001b[0;32m     17\u001b[0m \u001b[38;5;66;03m# 변경 사항 커밋\u001b[39;00m\n\u001b[0;32m     18\u001b[0m mydb\u001b[38;5;241m.\u001b[39mcommit()\n",
      "File \u001b[1;32mc:\\Users\\ty\\.conda\\envs\\ash\\lib\\site-packages\\mysql\\connector\\cursor_cext.py:501\u001b[0m, in \u001b[0;36mCMySQLCursor.executemany\u001b[1;34m(self, operation, seq_params)\u001b[0m\n\u001b[0;32m    499\u001b[0m     \u001b[38;5;28;01mif\u001b[39;00m stmt \u001b[38;5;129;01mis\u001b[39;00m \u001b[38;5;129;01mnot\u001b[39;00m \u001b[38;5;28;01mNone\u001b[39;00m:\n\u001b[0;32m    500\u001b[0m         \u001b[38;5;28mself\u001b[39m\u001b[38;5;241m.\u001b[39m_executed \u001b[38;5;241m=\u001b[39m stmt\n\u001b[1;32m--> 501\u001b[0m         \u001b[38;5;28;01mreturn\u001b[39;00m \u001b[38;5;28;43mself\u001b[39;49m\u001b[38;5;241;43m.\u001b[39;49m\u001b[43mexecute\u001b[49m\u001b[43m(\u001b[49m\u001b[43mstmt\u001b[49m\u001b[43m)\u001b[49m\n\u001b[0;32m    503\u001b[0m rowcnt \u001b[38;5;241m=\u001b[39m \u001b[38;5;241m0\u001b[39m\n\u001b[0;32m    504\u001b[0m \u001b[38;5;28;01mtry\u001b[39;00m:\n\u001b[0;32m    505\u001b[0m     \u001b[38;5;66;03m# When processing read ops (e.g., SELECT), rowcnt is updated\u001b[39;00m\n\u001b[0;32m    506\u001b[0m     \u001b[38;5;66;03m# based on self._rowcount. For write ops (e.g., INSERT) is\u001b[39;00m\n\u001b[0;32m    507\u001b[0m     \u001b[38;5;66;03m# updated based on self._affected_rows.\u001b[39;00m\n\u001b[0;32m    508\u001b[0m     \u001b[38;5;66;03m# The variable self._description is None for write ops, that's\u001b[39;00m\n\u001b[0;32m    509\u001b[0m     \u001b[38;5;66;03m# why we use it as indicator for updating rowcnt.\u001b[39;00m\n",
      "File \u001b[1;32mc:\\Users\\ty\\.conda\\envs\\ash\\lib\\site-packages\\mysql\\connector\\cursor_cext.py:374\u001b[0m, in \u001b[0;36mCMySQLCursor.execute\u001b[1;34m(self, operation, params, multi)\u001b[0m\n\u001b[0;32m    369\u001b[0m             \u001b[38;5;28;01mraise\u001b[39;00m ProgrammingError(\n\u001b[0;32m    370\u001b[0m                 \u001b[38;5;124m\"\u001b[39m\u001b[38;5;124mNot all parameters were used in the SQL statement\u001b[39m\u001b[38;5;124m\"\u001b[39m\n\u001b[0;32m    371\u001b[0m             )\n\u001b[0;32m    373\u001b[0m \u001b[38;5;28;01mtry\u001b[39;00m:\n\u001b[1;32m--> 374\u001b[0m     result \u001b[38;5;241m=\u001b[39m \u001b[38;5;28;43mself\u001b[39;49m\u001b[38;5;241;43m.\u001b[39;49m\u001b[43m_cnx\u001b[49m\u001b[38;5;241;43m.\u001b[39;49m\u001b[43mcmd_query\u001b[49m\u001b[43m(\u001b[49m\n\u001b[0;32m    375\u001b[0m \u001b[43m        \u001b[49m\u001b[43mstmt\u001b[49m\u001b[43m,\u001b[49m\n\u001b[0;32m    376\u001b[0m \u001b[43m        \u001b[49m\u001b[43mraw\u001b[49m\u001b[38;5;241;43m=\u001b[39;49m\u001b[38;5;28;43mself\u001b[39;49m\u001b[38;5;241;43m.\u001b[39;49m\u001b[43m_raw\u001b[49m\u001b[43m,\u001b[49m\n\u001b[0;32m    377\u001b[0m \u001b[43m        \u001b[49m\u001b[43mbuffered\u001b[49m\u001b[38;5;241;43m=\u001b[39;49m\u001b[38;5;28;43mself\u001b[39;49m\u001b[38;5;241;43m.\u001b[39;49m\u001b[43m_buffered\u001b[49m\u001b[43m,\u001b[49m\n\u001b[0;32m    378\u001b[0m \u001b[43m        \u001b[49m\u001b[43mraw_as_string\u001b[49m\u001b[38;5;241;43m=\u001b[39;49m\u001b[38;5;28;43mself\u001b[39;49m\u001b[38;5;241;43m.\u001b[39;49m\u001b[43m_raw_as_string\u001b[49m\u001b[43m,\u001b[49m\n\u001b[0;32m    379\u001b[0m \u001b[43m    \u001b[49m\u001b[43m)\u001b[49m\n\u001b[0;32m    380\u001b[0m \u001b[38;5;28;01mexcept\u001b[39;00m MySQLInterfaceError \u001b[38;5;28;01mas\u001b[39;00m err:\n\u001b[0;32m    381\u001b[0m     \u001b[38;5;28;01mraise\u001b[39;00m get_mysql_exception(\n\u001b[0;32m    382\u001b[0m         msg\u001b[38;5;241m=\u001b[39merr\u001b[38;5;241m.\u001b[39mmsg, errno\u001b[38;5;241m=\u001b[39merr\u001b[38;5;241m.\u001b[39merrno, sqlstate\u001b[38;5;241m=\u001b[39merr\u001b[38;5;241m.\u001b[39msqlstate\n\u001b[0;32m    383\u001b[0m     ) \u001b[38;5;28;01mfrom\u001b[39;00m \u001b[38;5;21;01merr\u001b[39;00m\n",
      "File \u001b[1;32mc:\\Users\\ty\\.conda\\envs\\ash\\lib\\site-packages\\mysql\\connector\\opentelemetry\\context_propagation.py:74\u001b[0m, in \u001b[0;36mwith_context_propagation.<locals>.wrapper\u001b[1;34m(cnx, *args, **kwargs)\u001b[0m\n\u001b[0;32m     72\u001b[0m \u001b[38;5;250m\u001b[39m\u001b[38;5;124;03m\"\"\"Context propagation decorator.\"\"\"\u001b[39;00m\n\u001b[0;32m     73\u001b[0m \u001b[38;5;28;01mif\u001b[39;00m \u001b[38;5;129;01mnot\u001b[39;00m OTEL_ENABLED \u001b[38;5;129;01mor\u001b[39;00m \u001b[38;5;129;01mnot\u001b[39;00m cnx\u001b[38;5;241m.\u001b[39motel_context_propagation:\n\u001b[1;32m---> 74\u001b[0m     \u001b[38;5;28;01mreturn\u001b[39;00m method(cnx, \u001b[38;5;241m*\u001b[39margs, \u001b[38;5;241m*\u001b[39m\u001b[38;5;241m*\u001b[39mkwargs)\n\u001b[0;32m     76\u001b[0m current_span \u001b[38;5;241m=\u001b[39m trace\u001b[38;5;241m.\u001b[39mget_current_span()\n\u001b[0;32m     77\u001b[0m tp_header \u001b[38;5;241m=\u001b[39m \u001b[38;5;28;01mNone\u001b[39;00m\n",
      "File \u001b[1;32mc:\\Users\\ty\\.conda\\envs\\ash\\lib\\site-packages\\mysql\\connector\\connection_cext.py:669\u001b[0m, in \u001b[0;36mCMySQLConnection.cmd_query\u001b[1;34m(self, query, raw, buffered, raw_as_string)\u001b[0m\n\u001b[0;32m    661\u001b[0m     \u001b[38;5;28mself\u001b[39m\u001b[38;5;241m.\u001b[39m_cmysql\u001b[38;5;241m.\u001b[39mquery(\n\u001b[0;32m    662\u001b[0m         query,\n\u001b[0;32m    663\u001b[0m         raw\u001b[38;5;241m=\u001b[39mraw,\n\u001b[1;32m   (...)\u001b[0m\n\u001b[0;32m    666\u001b[0m         query_attrs\u001b[38;5;241m=\u001b[39m\u001b[38;5;28mself\u001b[39m\u001b[38;5;241m.\u001b[39mquery_attrs,\n\u001b[0;32m    667\u001b[0m     )\n\u001b[0;32m    668\u001b[0m \u001b[38;5;28;01mexcept\u001b[39;00m MySQLInterfaceError \u001b[38;5;28;01mas\u001b[39;00m err:\n\u001b[1;32m--> 669\u001b[0m     \u001b[38;5;28;01mraise\u001b[39;00m get_mysql_exception(\n\u001b[0;32m    670\u001b[0m         err\u001b[38;5;241m.\u001b[39merrno, msg\u001b[38;5;241m=\u001b[39merr\u001b[38;5;241m.\u001b[39mmsg, sqlstate\u001b[38;5;241m=\u001b[39merr\u001b[38;5;241m.\u001b[39msqlstate\n\u001b[0;32m    671\u001b[0m     ) \u001b[38;5;28;01mfrom\u001b[39;00m \u001b[38;5;21;01merr\u001b[39;00m\n\u001b[0;32m    672\u001b[0m \u001b[38;5;28;01mexcept\u001b[39;00m \u001b[38;5;167;01mAttributeError\u001b[39;00m \u001b[38;5;28;01mas\u001b[39;00m err:\n\u001b[0;32m    673\u001b[0m     addr \u001b[38;5;241m=\u001b[39m (\n\u001b[0;32m    674\u001b[0m         \u001b[38;5;28mself\u001b[39m\u001b[38;5;241m.\u001b[39m_unix_socket \u001b[38;5;28;01mif\u001b[39;00m \u001b[38;5;28mself\u001b[39m\u001b[38;5;241m.\u001b[39m_unix_socket \u001b[38;5;28;01melse\u001b[39;00m \u001b[38;5;124mf\u001b[39m\u001b[38;5;124m\"\u001b[39m\u001b[38;5;132;01m{\u001b[39;00m\u001b[38;5;28mself\u001b[39m\u001b[38;5;241m.\u001b[39m_host\u001b[38;5;132;01m}\u001b[39;00m\u001b[38;5;124m:\u001b[39m\u001b[38;5;132;01m{\u001b[39;00m\u001b[38;5;28mself\u001b[39m\u001b[38;5;241m.\u001b[39m_port\u001b[38;5;132;01m}\u001b[39;00m\u001b[38;5;124m\"\u001b[39m\n\u001b[0;32m    675\u001b[0m     )\n",
      "\u001b[1;31mProgrammingError\u001b[0m: 1054 (42S22): Unknown column 'high' in 'field list'"
     ]
    }
   ],
   "source": [
    "# KRW 종목 리스트 가져오기\n",
    "columns = ['date', 'market', 'open', 'high', 'low', 'close', 'volume', 'value']\n",
    "\n",
    "# 삽입할 테이블 이름\n",
    "table_name = \"c_krw_day\"\n",
    "\n",
    "# 데이터 삽입 쿼리 생성\n",
    "sql = \"INSERT INTO {} ({}) VALUES ({})\".format(\n",
    "    table_name,\n",
    "    ', '.join(columns),\n",
    "    ', '.join(['%s'] * len(columns))\n",
    ")\n",
    "\n",
    "# 데이터 삽입\n",
    "mycursor.executemany(sql, values)\n",
    "\n",
    "# 변경 사항 커밋\n",
    "mydb.commit()\n",
    "print(mycursor.rowcount, \"레코드가 삽입되었습니다.\")\n",
    "mydb.close()"
   ]
  },
  {
   "cell_type": "markdown",
   "metadata": {},
   "source": [
    "##### 종목마스터 수집"
   ]
  },
  {
   "cell_type": "code",
   "execution_count": 4,
   "metadata": {},
   "outputs": [
    {
     "data": {
      "text/plain": [
       "119"
      ]
     },
     "execution_count": 4,
     "metadata": {},
     "output_type": "execute_result"
    }
   ],
   "source": [
    "pyupbit.get_tickers(fiat=\"KRW\")"
   ]
  },
  {
   "cell_type": "code",
   "execution_count": 28,
   "metadata": {},
   "outputs": [],
   "source": [
    "url = \"https://api.upbit.com/v1/market/all?isDetails=true\"\n",
    "headers = {\"accept\": \"application/json\"}\n",
    "response = requests.get(url, headers=headers)\n",
    "\n",
    "mst_json = json.loads(response.text)\n",
    "df = pd.DataFrame(mst_json)\n",
    "df = df[['market', 'korean_name', 'english_name', 'market_warning']]\n",
    "df = df[df['market'].str.contains('KRW')].reset_index(drop=True)\n",
    "\n",
    "\n",
    "# DB생성용 Master 항목당 최대 길이 출력\n",
    "max_length = df['market'].str.len().max()\n",
    "max_string = df[df['market'].str.len() == max_length]['market'].iloc[0]\n",
    "# print(max_string, len(max_string))\n",
    "\n",
    "# DataFrame을 튜플의 리스트로 변환\n",
    "values = df.values.tolist()\n",
    "\n",
    "# 컬럼명 리스트\n",
    "columns = df.columns.tolist()\n",
    "\n",
    "# 삽입할 테이블 이름\n",
    "table_name = \"c_krw_mst\""
   ]
  },
  {
   "cell_type": "code",
   "execution_count": 29,
   "metadata": {},
   "outputs": [
    {
     "data": {
      "text/plain": [
       "[['KRW-BTC', '비트코인', 'Bitcoin', 'NONE'],\n",
       " ['KRW-ETH', '이더리움', 'Ethereum', 'NONE'],\n",
       " ['KRW-NEO', '네오', 'NEO', 'NONE'],\n",
       " ['KRW-MTL', '메탈', 'Metal', 'NONE'],\n",
       " ['KRW-XRP', '리플', 'Ripple', 'NONE'],\n",
       " ['KRW-ETC', '이더리움클래식', 'Ethereum Classic', 'NONE'],\n",
       " ['KRW-SNT', '스테이터스네트워크토큰', 'Status Network Token', 'NONE'],\n",
       " ['KRW-WAVES', '웨이브', 'Waves', 'NONE'],\n",
       " ['KRW-XEM', '넴', 'NEM', 'NONE'],\n",
       " ['KRW-QTUM', '퀀텀', 'Qtum', 'NONE'],\n",
       " ['KRW-LSK', '리스크', 'Lisk', 'NONE'],\n",
       " ['KRW-STEEM', '스팀', 'Steem', 'NONE'],\n",
       " ['KRW-XLM', '스텔라루멘', 'Lumen', 'NONE'],\n",
       " ['KRW-ARDR', '아더', 'Ardor', 'NONE'],\n",
       " ['KRW-ARK', '아크', 'Ark', 'NONE'],\n",
       " ['KRW-STORJ', '스토리지', 'Storj', 'NONE'],\n",
       " ['KRW-GRS', '그로스톨코인', 'Groestlcoin', 'NONE'],\n",
       " ['KRW-ADA', '에이다', 'Ada', 'NONE'],\n",
       " ['KRW-SBD', '스팀달러', 'SteemDollars', 'NONE'],\n",
       " ['KRW-POWR', '파워렛저', 'Power ledger', 'NONE'],\n",
       " ['KRW-BTG', '비트코인골드', 'Bitcoin Gold', 'NONE'],\n",
       " ['KRW-ICX', '아이콘', 'Icon', 'NONE'],\n",
       " ['KRW-EOS', '이오스', 'EOS', 'NONE'],\n",
       " ['KRW-TRX', '트론', 'TRON', 'NONE'],\n",
       " ['KRW-SC', '시아코인', 'Siacoin', 'NONE'],\n",
       " ['KRW-ONT', '온톨로지', 'Ontology', 'NONE'],\n",
       " ['KRW-ZIL', '질리카', 'Zilliqa', 'NONE'],\n",
       " ['KRW-POLYX', '폴리매쉬', 'Polymesh', 'NONE'],\n",
       " ['KRW-ZRX', '제로엑스', '0x Protocol', 'NONE'],\n",
       " ['KRW-LOOM', '룸네트워크', 'Loom Network', 'NONE'],\n",
       " ['KRW-BCH', '비트코인캐시', 'Bitcoin Cash', 'NONE'],\n",
       " ['KRW-BAT', '베이직어텐션토큰', 'Basic Attention Token', 'NONE'],\n",
       " ['KRW-IOST', '아이오에스티', 'IOST', 'NONE'],\n",
       " ['KRW-CVC', '시빅', 'Civic', 'NONE'],\n",
       " ['KRW-IQ', '아이큐', 'IQ.wiki', 'NONE'],\n",
       " ['KRW-IOTA', '아이오타', 'IOTA', 'NONE'],\n",
       " ['KRW-HIFI', '하이파이', 'Hifi Finance', 'NONE'],\n",
       " ['KRW-ONG', '온톨로지가스', 'ONG', 'NONE'],\n",
       " ['KRW-GAS', '가스', 'GAS', 'NONE'],\n",
       " ['KRW-UPP', '센티넬프로토콜', 'Sentinel Protocol', 'NONE'],\n",
       " ['KRW-ELF', '엘프', 'aelf', 'NONE'],\n",
       " ['KRW-KNC', '카이버네트워크', 'Kyber Network', 'NONE'],\n",
       " ['KRW-BSV', '비트코인에스브이', 'Bitcoin SV', 'NONE'],\n",
       " ['KRW-THETA', '쎄타토큰', 'Theta Token', 'NONE'],\n",
       " ['KRW-QKC', '쿼크체인', 'QuarkChain', 'NONE'],\n",
       " ['KRW-BTT', '비트토렌트', 'BitTorrent', 'NONE'],\n",
       " ['KRW-MOC', '모스코인', 'Moss Coin', 'NONE'],\n",
       " ['KRW-TFUEL', '쎄타퓨엘', 'Theta Fuel', 'NONE'],\n",
       " ['KRW-MANA', '디센트럴랜드', 'Decentraland', 'NONE'],\n",
       " ['KRW-ANKR', '앵커', 'Ankr', 'NONE'],\n",
       " ['KRW-AERGO', '아르고', 'Aergo', 'NONE'],\n",
       " ['KRW-ATOM', '코스모스', 'Cosmos', 'NONE'],\n",
       " ['KRW-TT', '썬더코어', 'ThunderCore', 'NONE'],\n",
       " ['KRW-CRE', '캐리프로토콜', 'Carry Protocol', 'NONE'],\n",
       " ['KRW-MBL', '무비블록', 'MovieBloc', 'NONE'],\n",
       " ['KRW-WAXP', '왁스', 'WAX', 'NONE'],\n",
       " ['KRW-HBAR', '헤데라', 'Hedera', 'NONE'],\n",
       " ['KRW-MED', '메디블록', 'MediBloc', 'NONE'],\n",
       " ['KRW-MLK', '밀크', 'MiL.k', 'NONE'],\n",
       " ['KRW-STPT', '에스티피', 'Standard Tokenization Protocol', 'NONE'],\n",
       " ['KRW-ORBS', '오브스', 'Orbs', 'NONE'],\n",
       " ['KRW-VET', '비체인', 'VeChain', 'NONE'],\n",
       " ['KRW-CHZ', '칠리즈', 'Chiliz', 'NONE'],\n",
       " ['KRW-STMX', '스톰엑스', 'StormX', 'NONE'],\n",
       " ['KRW-DKA', '디카르고', 'dKargo', 'NONE'],\n",
       " ['KRW-HIVE', '하이브', 'Hive', 'NONE'],\n",
       " ['KRW-KAVA', '카바', 'Kava', 'NONE'],\n",
       " ['KRW-AHT', '아하토큰', 'AhaToken', 'NONE'],\n",
       " ['KRW-LINK', '체인링크', 'Chainlink', 'NONE'],\n",
       " ['KRW-XTZ', '테조스', 'Tezos', 'NONE'],\n",
       " ['KRW-BORA', '보라', 'BORA', 'NONE'],\n",
       " ['KRW-JST', '저스트', 'JUST', 'NONE'],\n",
       " ['KRW-CRO', '크로노스', 'Cronos', 'NONE'],\n",
       " ['KRW-TON', '톤', 'TON', 'NONE'],\n",
       " ['KRW-SXP', '솔라', 'SXP', 'NONE'],\n",
       " ['KRW-HUNT', '헌트', 'HUNT', 'NONE'],\n",
       " ['KRW-PLA', '플레이댑', 'PlayDapp', 'NONE'],\n",
       " ['KRW-DOT', '폴카닷', 'Polkadot', 'NONE'],\n",
       " ['KRW-MVL', '엠블', 'MVL', 'NONE'],\n",
       " ['KRW-STRAX', '스트라티스', 'Stratis', 'NONE'],\n",
       " ['KRW-AQT', '알파쿼크', 'Alpha Quark Token', 'NONE'],\n",
       " ['KRW-GLM', '골렘', 'Golem', 'NONE'],\n",
       " ['KRW-SSX', '썸씽', 'SOMESING', 'CAUTION'],\n",
       " ['KRW-META', '메타디움', 'Metadium', 'NONE'],\n",
       " ['KRW-FCT2', '피르마체인', 'FirmaChain', 'NONE'],\n",
       " ['KRW-CBK', '코박토큰', 'Cobak Token', 'NONE'],\n",
       " ['KRW-SAND', '샌드박스', 'The Sandbox', 'NONE'],\n",
       " ['KRW-HPO', '히포크랏', 'Hippocrat', 'NONE'],\n",
       " ['KRW-DOGE', '도지코인', 'Dogecoin', 'NONE'],\n",
       " ['KRW-STRK', '스트라이크', 'Strike', 'NONE'],\n",
       " ['KRW-PUNDIX', '펀디엑스', 'Pundi X', 'NONE'],\n",
       " ['KRW-FLOW', '플로우', 'Flow', 'NONE'],\n",
       " ['KRW-AXS', '엑시인피니티', 'Axie Infinity', 'NONE'],\n",
       " ['KRW-STX', '스택스', 'Stacks', 'NONE'],\n",
       " ['KRW-XEC', '이캐시', 'eCash', 'NONE'],\n",
       " ['KRW-SOL', '솔라나', 'Solana', 'NONE'],\n",
       " ['KRW-MATIC', '폴리곤', 'Polygon', 'NONE'],\n",
       " ['KRW-AAVE', '에이브', 'Aave', 'NONE'],\n",
       " ['KRW-1INCH', '1인치네트워크', '1inch Network', 'NONE'],\n",
       " ['KRW-ALGO', '알고랜드', 'Algorand', 'NONE'],\n",
       " ['KRW-NEAR', '니어프로토콜', 'NEAR Protocol', 'NONE'],\n",
       " ['KRW-AVAX', '아발란체', 'Avalanche', 'NONE'],\n",
       " ['KRW-T', '쓰레스홀드', 'Threshold', 'NONE'],\n",
       " ['KRW-CELO', '셀로', 'Celo', 'NONE'],\n",
       " ['KRW-GMT', '스테픈', 'Stepn', 'NONE'],\n",
       " ['KRW-APT', '앱토스', 'Aptos', 'NONE'],\n",
       " ['KRW-SHIB', '시바이누', 'Shiba Inu', 'NONE'],\n",
       " ['KRW-MASK', '마스크네트워크', 'Mask Network', 'NONE'],\n",
       " ['KRW-ARB', '아비트럼', 'Arbitrum', 'NONE'],\n",
       " ['KRW-EGLD', '멀티버스엑스', 'MultiversX', 'NONE'],\n",
       " ['KRW-SUI', '수이', 'Sui', 'NONE'],\n",
       " ['KRW-GRT', '더그래프', 'The Graph', 'NONE'],\n",
       " ['KRW-BLUR', '블러', 'Blur', 'NONE'],\n",
       " ['KRW-IMX', '이뮤터블엑스', 'Immutable X', 'NONE'],\n",
       " ['KRW-SEI', '세이', 'Sei', 'NONE'],\n",
       " ['KRW-MINA', '미나', 'Mina', 'NONE'],\n",
       " ['KRW-CTC', '크레딧코인', 'Creditcoin', 'NONE'],\n",
       " ['KRW-ASTR', '아스타', 'Astar', 'NONE'],\n",
       " ['KRW-ID', '스페이스아이디', 'SPACE ID', 'NONE']]"
      ]
     },
     "execution_count": 29,
     "metadata": {},
     "output_type": "execute_result"
    }
   ],
   "source": [
    "values"
   ]
  },
  {
   "cell_type": "code",
   "execution_count": 5,
   "metadata": {},
   "outputs": [
    {
     "ename": "NameError",
     "evalue": "name 'table_name' is not defined",
     "output_type": "error",
     "traceback": [
      "\u001b[1;31m---------------------------------------------------------------------------\u001b[0m",
      "\u001b[1;31mNameError\u001b[0m                                 Traceback (most recent call last)",
      "Cell \u001b[1;32mIn[5], line 6\u001b[0m\n\u001b[0;32m      1\u001b[0m pyupbit\u001b[38;5;241m.\u001b[39mget_tickers(fiat\u001b[38;5;241m=\u001b[39m\u001b[38;5;124m\"\u001b[39m\u001b[38;5;124mKRW\u001b[39m\u001b[38;5;124m\"\u001b[39m)\n\u001b[0;32m      4\u001b[0m \u001b[38;5;66;03m# 데이터 삽입 쿼리 생성\u001b[39;00m\n\u001b[0;32m      5\u001b[0m sql \u001b[38;5;241m=\u001b[39m \u001b[38;5;124m\"\u001b[39m\u001b[38;5;124mINSERT INTO \u001b[39m\u001b[38;5;132;01m{}\u001b[39;00m\u001b[38;5;124m (\u001b[39m\u001b[38;5;132;01m{}\u001b[39;00m\u001b[38;5;124m) VALUES (\u001b[39m\u001b[38;5;132;01m{}\u001b[39;00m\u001b[38;5;124m)\u001b[39m\u001b[38;5;124m\"\u001b[39m\u001b[38;5;241m.\u001b[39mformat(\n\u001b[1;32m----> 6\u001b[0m     \u001b[43mtable_name\u001b[49m,\n\u001b[0;32m      7\u001b[0m     \u001b[38;5;124m'\u001b[39m\u001b[38;5;124m, \u001b[39m\u001b[38;5;124m'\u001b[39m\u001b[38;5;241m.\u001b[39mjoin(columns),\n\u001b[0;32m      8\u001b[0m     \u001b[38;5;124m'\u001b[39m\u001b[38;5;124m, \u001b[39m\u001b[38;5;124m'\u001b[39m\u001b[38;5;241m.\u001b[39mjoin([\u001b[38;5;124m'\u001b[39m\u001b[38;5;132;01m%s\u001b[39;00m\u001b[38;5;124m'\u001b[39m] \u001b[38;5;241m*\u001b[39m \u001b[38;5;28mlen\u001b[39m(columns))\n\u001b[0;32m      9\u001b[0m )\n\u001b[0;32m     11\u001b[0m \u001b[38;5;66;03m# 데이터 삽입\u001b[39;00m\n\u001b[0;32m     12\u001b[0m mycursor\u001b[38;5;241m.\u001b[39mexecutemany(sql, values)\n",
      "\u001b[1;31mNameError\u001b[0m: name 'table_name' is not defined"
     ]
    }
   ],
   "source": [
    "# KRW 종목 리스트 가져오기\n",
    "columns = pyupbit.get_tickers(fiat=\"KRW\")\n",
    "\n",
    "# 삽입할 테이블 이름\n",
    "table_name = \"c_krw_mst\"\n",
    "\n",
    "# 데이터 삽입 쿼리 생성\n",
    "sql = \"INSERT INTO {} ({}) VALUES ({})\".format(\n",
    "    table_name,\n",
    "    ', '.join(columns),\n",
    "    ', '.join(['%s'] * len(columns))\n",
    ")\n",
    "\n",
    "# 데이터 삽입\n",
    "mycursor.executemany(sql, values)\n",
    "\n",
    "# 변경 사항 커밋\n",
    "mydb.commit()\n",
    "print(mycursor.rowcount, \"레코드가 삽입되었습니다.\")\n",
    "mydb.close()"
   ]
  },
  {
   "cell_type": "code",
   "execution_count": null,
   "metadata": {},
   "outputs": [
    {
     "data": {
      "text/plain": [
       "['KRW-1INCH',\n",
       " 'KRW-AAVE',\n",
       " 'KRW-ADA',\n",
       " 'KRW-AERGO',\n",
       " 'KRW-AHT',\n",
       " 'KRW-ALGO',\n",
       " 'KRW-ANKR',\n",
       " 'KRW-APT',\n",
       " 'KRW-AQT',\n",
       " 'KRW-ARB',\n",
       " 'KRW-ARDR',\n",
       " 'KRW-ARK',\n",
       " 'KRW-ASTR',\n",
       " 'KRW-ATOM',\n",
       " 'KRW-AVAX',\n",
       " 'KRW-AXS',\n",
       " 'KRW-BAT',\n",
       " 'KRW-BCH',\n",
       " 'KRW-BLUR',\n",
       " 'KRW-BORA',\n",
       " 'KRW-BSV',\n",
       " 'KRW-BTC',\n",
       " 'KRW-BTG',\n",
       " 'KRW-BTT',\n",
       " 'KRW-CBK',\n",
       " 'KRW-CELO',\n",
       " 'KRW-CHZ',\n",
       " 'KRW-CRE',\n",
       " 'KRW-CRO',\n",
       " 'KRW-CTC',\n",
       " 'KRW-CVC',\n",
       " 'KRW-DKA',\n",
       " 'KRW-DOGE',\n",
       " 'KRW-DOT',\n",
       " 'KRW-EGLD',\n",
       " 'KRW-ELF',\n",
       " 'KRW-EOS',\n",
       " 'KRW-ETC',\n",
       " 'KRW-ETH',\n",
       " 'KRW-FCT2',\n",
       " 'KRW-FLOW',\n",
       " 'KRW-GAS',\n",
       " 'KRW-GLM',\n",
       " 'KRW-GMT',\n",
       " 'KRW-GRS',\n",
       " 'KRW-GRT',\n",
       " 'KRW-HBAR',\n",
       " 'KRW-HIFI',\n",
       " 'KRW-HIVE',\n",
       " 'KRW-HPO',\n",
       " 'KRW-HUNT',\n",
       " 'KRW-ICX',\n",
       " 'KRW-IMX',\n",
       " 'KRW-IOST',\n",
       " 'KRW-IOTA',\n",
       " 'KRW-IQ',\n",
       " 'KRW-JST',\n",
       " 'KRW-KAVA',\n",
       " 'KRW-KNC',\n",
       " 'KRW-LINK',\n",
       " 'KRW-LOOM',\n",
       " 'KRW-LSK',\n",
       " 'KRW-MANA',\n",
       " 'KRW-MASK',\n",
       " 'KRW-MATIC',\n",
       " 'KRW-MBL',\n",
       " 'KRW-MED',\n",
       " 'KRW-META',\n",
       " 'KRW-MINA',\n",
       " 'KRW-MLK',\n",
       " 'KRW-MOC',\n",
       " 'KRW-MTL',\n",
       " 'KRW-MVL',\n",
       " 'KRW-NEAR',\n",
       " 'KRW-NEO',\n",
       " 'KRW-ONG',\n",
       " 'KRW-ONT',\n",
       " 'KRW-ORBS',\n",
       " 'KRW-PLA',\n",
       " 'KRW-POLYX',\n",
       " 'KRW-POWR',\n",
       " 'KRW-PUNDIX',\n",
       " 'KRW-QKC',\n",
       " 'KRW-QTUM',\n",
       " 'KRW-SAND',\n",
       " 'KRW-SBD',\n",
       " 'KRW-SC',\n",
       " 'KRW-SEI',\n",
       " 'KRW-SHIB',\n",
       " 'KRW-SNT',\n",
       " 'KRW-SOL',\n",
       " 'KRW-SSX',\n",
       " 'KRW-STEEM',\n",
       " 'KRW-STMX',\n",
       " 'KRW-STORJ',\n",
       " 'KRW-STPT',\n",
       " 'KRW-STRAX',\n",
       " 'KRW-STRK',\n",
       " 'KRW-STX',\n",
       " 'KRW-SUI',\n",
       " 'KRW-SXP',\n",
       " 'KRW-T',\n",
       " 'KRW-TFUEL',\n",
       " 'KRW-THETA',\n",
       " 'KRW-TON',\n",
       " 'KRW-TRX',\n",
       " 'KRW-TT',\n",
       " 'KRW-UPP',\n",
       " 'KRW-VET',\n",
       " 'KRW-WAVES',\n",
       " 'KRW-WAXP',\n",
       " 'KRW-XEC',\n",
       " 'KRW-XEM',\n",
       " 'KRW-XLM',\n",
       " 'KRW-XRP',\n",
       " 'KRW-XTZ',\n",
       " 'KRW-ZIL',\n",
       " 'KRW-ZRX']"
      ]
     },
     "metadata": {},
     "output_type": "display_data"
    }
   ],
   "source": [
    "market_list"
   ]
  },
  {
   "cell_type": "code",
   "execution_count": 27,
   "metadata": {},
   "outputs": [],
   "source": []
  },
  {
   "cell_type": "code",
   "execution_count": null,
   "metadata": {},
   "outputs": [],
   "source": []
  },
  {
   "cell_type": "code",
   "execution_count": null,
   "metadata": {},
   "outputs": [],
   "source": []
  }
 ],
 "metadata": {
  "kernelspec": {
   "display_name": "ash",
   "language": "python",
   "name": "python3"
  },
  "language_info": {
   "codemirror_mode": {
    "name": "ipython",
    "version": 3
   },
   "file_extension": ".py",
   "mimetype": "text/x-python",
   "name": "python",
   "nbconvert_exporter": "python",
   "pygments_lexer": "ipython3",
   "version": "3.10.13"
  }
 },
 "nbformat": 4,
 "nbformat_minor": 2
}
