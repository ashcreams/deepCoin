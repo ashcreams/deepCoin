{
 "cells": [
  {
   "cell_type": "code",
   "execution_count": 3,
   "metadata": {},
   "outputs": [],
   "source": [
    "import pyupbit\n",
    "import time"
   ]
  },
  {
   "cell_type": "code",
   "execution_count": null,
   "metadata": {},
   "outputs": [],
   "source": []
  },
  {
   "cell_type": "markdown",
   "metadata": {},
   "source": [
    "krw_tickers = pyupbit.get_tickers(fiat = \"KRW\")\n",
    "time.sleep(0.1)"
   ]
  },
  {
   "cell_type": "code",
   "execution_count": null,
   "metadata": {},
   "outputs": [],
   "source": []
  },
  {
   "cell_type": "code",
   "execution_count": null,
   "metadata": {},
   "outputs": [],
   "source": [
    "target_tickers = [] # 자신이 원하는 티커들을 담을 리스트\n",
    "\n",
    "#원화 티커들을 for문을 통해 하나씩 가져옵니다 \n",
    "for i in krw_tickers: \n",
    "\n",
    "    # 가져온 티커의 현재가를 구합니다.\n",
    "    cur_price = pyupbit.get_current_price(i)\n",
    "\n",
    "    time.sleep(0.1)\n",
    "\n",
    "    # 티커의 현재가격이 1000초과 5000미만이면\n",
    "    if 1000 < cur_price < 5000:\n",
    "\n",
    "        #해당티커를 자신이 만든 리스트에 저장합니다.\n",
    "        target_tickers.append(i)\n",
    "\n",
    "print(target_tickers)"
   ]
  },
  {
   "cell_type": "code",
   "execution_count": null,
   "metadata": {},
   "outputs": [],
   "source": []
  },
  {
   "cell_type": "code",
   "execution_count": null,
   "metadata": {},
   "outputs": [],
   "source": []
  },
  {
   "cell_type": "code",
   "execution_count": null,
   "metadata": {},
   "outputs": [],
   "source": []
  }
 ],
 "metadata": {
  "kernelspec": {
   "display_name": "ash",
   "language": "python",
   "name": "python3"
  },
  "language_info": {
   "codemirror_mode": {
    "name": "ipython",
    "version": 3
   },
   "file_extension": ".py",
   "mimetype": "text/x-python",
   "name": "python",
   "nbconvert_exporter": "python",
   "pygments_lexer": "ipython3",
   "version": "3.10.13"
  }
 },
 "nbformat": 4,
 "nbformat_minor": 2
}
