{
 "cells": [
  {
   "cell_type": "code",
   "execution_count": 1,
   "metadata": {},
   "outputs": [],
   "source": [
    "import pyupbit\n",
    "import time\n",
    "import json\n",
    "import requests\n",
    "import pandas as pd\n",
    "import mysql.connector"
   ]
  },
  {
   "cell_type": "markdown",
   "metadata": {},
   "source": [
    "##### DB연결"
   ]
  },
  {
   "cell_type": "code",
   "execution_count": 43,
   "metadata": {},
   "outputs": [
    {
     "name": "stdout",
     "output_type": "stream",
     "text": [
      "MySQL 데이터베이스에 성공적으로 연결되었습니다.\n"
     ]
    }
   ],
   "source": [
    "# MySQL 서버에 연결\n",
    "mydb = mysql.connector.connect(\n",
    "    host=\"127.0.0.1\",\n",
    "    user=\"root\",\n",
    "    password=\"1234\",\n",
    "    database=\"deepCoin\"\n",
    ")\n",
    "\n",
    "# 연결이 제대로 되었는지 확인\n",
    "if mydb.is_connected():\n",
    "    print(\"MySQL 데이터베이스에 성공적으로 연결되었습니다.\")\n",
    "else:\n",
    "    print(\"MySQL 데이터베이스 연결에 실패했습니다.\")\n",
    "\n",
    "# 커서 생성\n",
    "mycursor = mydb.cursor()\n"
   ]
  },
  {
   "cell_type": "markdown",
   "metadata": {},
   "source": [
    "##### DB 종목마스터 가져오기"
   ]
  },
  {
   "cell_type": "code",
   "execution_count": 50,
   "metadata": {},
   "outputs": [],
   "source": [
    "# SELECT 쿼리 실행\n",
    "mycursor.execute(\"SELECT * FROM c_krw_mst\")\n",
    "\n",
    "# 결과 가져오기\n",
    "result = mycursor.fetchall()\n",
    "\n",
    "# 튜플의 0번째 인덱스만 가져와서 마켓 리스트 생성\n",
    "market_list = [t[0] for t in result]"
   ]
  },
  {
   "cell_type": "code",
   "execution_count": 58,
   "metadata": {},
   "outputs": [],
   "source": [
    "market_list = ['KRW-ADA','KRW-ADA']"
   ]
  },
  {
   "cell_type": "code",
   "execution_count": 81,
   "metadata": {},
   "outputs": [],
   "source": [
    "market = 'KRW-ADA'\n",
    "end_date = '20240101'\n",
    "select_count = 200\n",
    "# for market in market_list:\n",
    "url = f\"https://api.upbit.com/v1/candles/days?market={market}&to={end_date}&count={select_count}&convertingPriceUnit=KRW\"\n",
    "headers = {\"accept\": \"application/json\"}\n",
    "response = requests.get(url, headers=headers)\n",
    "\n",
    "mst_json = json.loads(response.text)"
   ]
  },
  {
   "cell_type": "code",
   "execution_count": 82,
   "metadata": {},
   "outputs": [
    {
     "data": {
      "text/plain": [
       "{'error': {'name': 400,\n",
       "  'message': 'Invalid parameter. Check the given value!'}}"
      ]
     },
     "execution_count": 82,
     "metadata": {},
     "output_type": "execute_result"
    }
   ],
   "source": [
    "mst_json"
   ]
  },
  {
   "cell_type": "code",
   "execution_count": 39,
   "metadata": {},
   "outputs": [],
   "source": [
    "url = \"https://api.upbit.com/v1/candles/days?market=KRW-BTC&count=200&convertingPriceUnit=KRW\"\n",
    "headers = {\"accept\": \"application/json\"}\n",
    "response = requests.get(url, headers=headers)\n",
    "\n",
    "mst_json = json.loads(response.text)"
   ]
  },
  {
   "cell_type": "code",
   "execution_count": null,
   "metadata": {},
   "outputs": [],
   "source": []
  },
  {
   "cell_type": "code",
   "execution_count": 40,
   "metadata": {},
   "outputs": [],
   "source": [
    "for i in \n",
    "url = \"https://api.upbit.com/v1/candles/days?market=KRW-BTC&count=200&convertingPriceUnit=KRW\"\n",
    "headers = {\"accept\": \"application/json\"}\n",
    "response = requests.get(url, headers=headers)\n",
    "\n",
    "mst_json = json.loads(response.text)"
   ]
  },
  {
   "cell_type": "markdown",
   "metadata": {},
   "source": [
    "##### 종목마스터 수집"
   ]
  },
  {
   "cell_type": "code",
   "execution_count": 25,
   "metadata": {},
   "outputs": [],
   "source": [
    "url = \"https://api.upbit.com/v1/market/all?isDetails=true\"\n",
    "headers = {\"accept\": \"application/json\"}\n",
    "response = requests.get(url, headers=headers)\n",
    "\n",
    "mst_json = json.loads(response.text)\n",
    "df = pd.DataFrame(mst_json)\n",
    "df = df[['market', 'korean_name', 'english_name', 'market_warning']]\n",
    "df = df[df['market'].str.contains('KRW')].reset_index(drop=True)\n",
    "\n",
    "\n",
    "# DB생성용 Master 항목당 최대 길이 출력\n",
    "max_length = df['market'].str.len().max()\n",
    "max_string = df[df['market'].str.len() == max_length]['market'].iloc[0]\n",
    "# print(max_string, len(max_string))\n",
    "\n",
    "# DataFrame을 튜플의 리스트로 변환\n",
    "values = df.values.tolist()\n",
    "\n",
    "# 컬럼명 리스트\n",
    "columns = df.columns.tolist()\n",
    "\n",
    "# 삽입할 테이블 이름\n",
    "table_name = \"c_krw_mst\""
   ]
  },
  {
   "cell_type": "code",
   "execution_count": 26,
   "metadata": {},
   "outputs": [
    {
     "name": "stdout",
     "output_type": "stream",
     "text": [
      "118 레코드가 삽입되었습니다.\n"
     ]
    }
   ],
   "source": [
    "# 데이터 삽입 쿼리 생성\n",
    "sql = \"INSERT INTO {} ({}) VALUES ({})\".format(\n",
    "    table_name,\n",
    "    ', '.join(columns),\n",
    "    ', '.join(['%s'] * len(columns))\n",
    ")\n",
    "\n",
    "# 데이터 삽입\n",
    "mycursor.executemany(sql, values)\n",
    "\n",
    "# 변경 사항 커밋\n",
    "mydb.commit()\n",
    "print(mycursor.rowcount, \"레코드가 삽입되었습니다.\")\n",
    "mydb.close()"
   ]
  },
  {
   "cell_type": "code",
   "execution_count": 27,
   "metadata": {},
   "outputs": [],
   "source": []
  },
  {
   "cell_type": "code",
   "execution_count": null,
   "metadata": {},
   "outputs": [],
   "source": []
  },
  {
   "cell_type": "code",
   "execution_count": null,
   "metadata": {},
   "outputs": [],
   "source": []
  }
 ],
 "metadata": {
  "kernelspec": {
   "display_name": "ash",
   "language": "python",
   "name": "python3"
  },
  "language_info": {
   "codemirror_mode": {
    "name": "ipython",
    "version": 3
   },
   "file_extension": ".py",
   "mimetype": "text/x-python",
   "name": "python",
   "nbconvert_exporter": "python",
   "pygments_lexer": "ipython3",
   "version": "3.10.13"
  }
 },
 "nbformat": 4,
 "nbformat_minor": 2
}
